{
  "nbformat": 4,
  "nbformat_minor": 0,
  "metadata": {
    "colab": {
      "provenance": []
    },
    "kernelspec": {
      "name": "python3",
      "display_name": "Python 3"
    },
    "language_info": {
      "name": "python"
    }
  },
  "cells": [
    {
      "cell_type": "code",
      "source": [
        "#QUESTION 1\n",
        "a=\"saurabh kumar\"\n",
        "b=[4,6,9,2]\n",
        "c=4.66\n",
        "d=(6,8,2,7,'str')\n",
        "#question 2\n",
        "a=str\n",
        "b=str\n",
        "c=list\n",
        "d=int"
      ],
      "metadata": {
        "id": "RRWZG_yCx09V"
      },
      "execution_count": null,
      "outputs": []
    },
    {
      "cell_type": "code",
      "source": [
        "#Question 3\n",
        "#divide\n",
        "print(6/3)\n",
        "#modulus\n",
        "a = 10\n",
        "b = 3\n",
        "remainder = a % b\n",
        "print(remainder)  # Output: 1\n",
        "# (Floor Division Operator):\n",
        "a = 10\n",
        "b = 3\n",
        "result = a // b\n",
        "print(result)  # Output: 3\n",
        "#Exponentiation Operaton\n",
        "a = 2\n",
        "b = 3\n",
        "result = a ** b\n",
        "print(result)  # Output: 8\n"
      ],
      "metadata": {
        "colab": {
          "base_uri": "https://localhost:8080/"
        },
        "id": "6lEI22NmzGpx",
        "outputId": "10a6d095-cb42-4e40-afc6-522202459370"
      },
      "execution_count": null,
      "outputs": [
        {
          "output_type": "stream",
          "name": "stdout",
          "text": [
            "2.0\n",
            "1\n",
            "3\n",
            "8\n"
          ]
        }
      ]
    },
    {
      "cell_type": "code",
      "source": [
        "#question 4\n",
        "l=[2,5,7,'saurabh',5+6j,4.66,True,'kumar',False,6]\n",
        "for i in l:\n",
        "  print(i,type(i))"
      ],
      "metadata": {
        "colab": {
          "base_uri": "https://localhost:8080/"
        },
        "id": "T7uRvYZh02ou",
        "outputId": "f0e4296a-33f4-46e0-9840-14d2df6e42dd"
      },
      "execution_count": null,
      "outputs": [
        {
          "output_type": "stream",
          "name": "stdout",
          "text": [
            "2 <class 'int'>\n",
            "5 <class 'int'>\n",
            "7 <class 'int'>\n",
            "saurabh <class 'str'>\n",
            "(5+6j) <class 'complex'>\n",
            "4.66 <class 'float'>\n",
            "True <class 'bool'>\n",
            "kumar <class 'str'>\n",
            "False <class 'bool'>\n",
            "6 <class 'int'>\n"
          ]
        }
      ]
    },
    {
      "cell_type": "code",
      "source": [
        "#question 5\n",
        "A = int(input(\"Enter a number A: \"))\n",
        "B = int(input(\"Enter a number B: \"))\n",
        "count = 0\n",
        "while A % B == 0:\n",
        "    A /= B\n",
        "    count += 1\n",
        "if count > 0:\n",
        "    print(\"Number of times A is divisible by B:\", count)\n",
        "else:\n",
        "    print(\"A is not purely divisible by B\")\n"
      ],
      "metadata": {
        "colab": {
          "base_uri": "https://localhost:8080/"
        },
        "id": "ZoYKNyDs1_5H",
        "outputId": "1775dc11-363b-455e-b003-1aa3c70d5d8c"
      },
      "execution_count": null,
      "outputs": [
        {
          "output_type": "stream",
          "name": "stdout",
          "text": [
            "enter a number A10\n",
            "enter a number B2\n",
            "not purely divisible\n"
          ]
        }
      ]
    },
    {
      "cell_type": "code",
      "source": [
        "#question 6\n",
        "data_list = [i for i in range(1, 26)]\n",
        "for num in data_list:\n",
        "    if num % 3 == 0:\n",
        "        print(f\"{num} is divisible by 3\")\n",
        "    else:\n",
        "        print(f\"{num} is not divisible by 3\")\n"
      ],
      "metadata": {
        "id": "-fjjvgnS3yXc"
      },
      "execution_count": null,
      "outputs": []
    },
    {
      "cell_type": "code",
      "source": [
        "#Question 7\n",
        "a='saurabh'\n",
        "a[2]=s# imutable\n",
        "l=[4,7,8,9]\n",
        "l[1]=10 #mutable\n"
      ],
      "metadata": {
        "id": "2TUR4gCF4c35"
      },
      "execution_count": null,
      "outputs": []
    }
  ]
}